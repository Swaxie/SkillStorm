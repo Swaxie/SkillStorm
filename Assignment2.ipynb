{
 "cells": [
  {
   "cell_type": "markdown",
   "metadata": {},
   "source": [
    "## Assignment 2"
   ]
  },
  {
   "cell_type": "code",
   "execution_count": 16,
   "metadata": {},
   "outputs": [
    {
     "name": "stdout",
     "output_type": "stream",
     "text": [
      "True\n",
      "True\n",
      "True\n",
      "True\n",
      "True\n"
     ]
    }
   ],
   "source": [
    "# Exercise 1\n",
    "def string_validation(string : str) -> None:\n",
    "    print(any(i.isalnum() for i in string))\n",
    "    print(any(i.isalpha() for i in string))\n",
    "    print(any(i.isnumeric() for i in string))\n",
    "    print(any(i.islower() for i in string))\n",
    "    print(any(i.isupper() for i in string))\n",
    "\n",
    "string_validation(\"!!!!AAAa9\")\n",
    "        "
   ]
  },
  {
   "cell_type": "code",
   "execution_count": 12,
   "metadata": {},
   "outputs": [
    {
     "data": {
      "text/plain": [
       "<re.Match object; span=(30, 32), match='22'>"
      ]
     },
     "execution_count": 12,
     "metadata": {},
     "output_type": "execute_result"
    }
   ],
   "source": [
    "# Exercise 2\n",
    "import re\n",
    "regex_example = \"Hello! My name is Simon. I am 22, and I have 3 cats.\"\n",
    "\n",
    "re.search(r\"^\\w+\", regex_example)\n",
    "re.search(r\"\\s\\d\", regex_example)\n",
    "re.search(r\"\\w+[!.?]$\", regex_example)\n",
    "re.search(r\"\\w*[123][123]+\\w*\", regex_example)\n",
    "re.search(r\"\\w*([a-zA-Z])\\1\\w*\", regex_example)\n",
    "\n"
   ]
  },
  {
   "cell_type": "code",
   "execution_count": 29,
   "metadata": {},
   "outputs": [
    {
     "name": "stdout",
     "output_type": "stream",
     "text": [
      "124465\n"
     ]
    }
   ],
   "source": [
    "# Exercise 3\n",
    "file_path = \"./Pride_and_Prejudice.txt\"\n",
    "word_length = 0\n",
    "\n",
    "with open(file=file_path, mode='rt', encoding=\"utf-8\") as f:\n",
    "    book = f.readlines()[169:]\n",
    "for i in book:\n",
    "    word_length += len(i.split())\n",
    "\n",
    "print(word_length)"
   ]
  },
  {
   "cell_type": "code",
   "execution_count": 33,
   "metadata": {},
   "outputs": [
    {
     "name": "stdout",
     "output_type": "stream",
     "text": [
      "6\n"
     ]
    }
   ],
   "source": [
    "# Exercise 4\n",
    "def get_word_score(*words : str) -> int:\n",
    "    word_score = 0\n",
    "\n",
    "    for word in words:\n",
    "        vowel_count = len(re.findall(r\"[aeiouyAEIOUY]\", word))\n",
    "        word_score += 2 if vowel_count%2 == 0 else 1\n",
    "\n",
    "    return word_score\n",
    "\n",
    "print(get_word_score(\"Hello\", \"How\", \"Are\", \"You\"))\n",
    "        "
   ]
  }
 ],
 "metadata": {
  "kernelspec": {
   "display_name": "Python 3",
   "language": "python",
   "name": "python3"
  },
  "language_info": {
   "codemirror_mode": {
    "name": "ipython",
    "version": 3
   },
   "file_extension": ".py",
   "mimetype": "text/x-python",
   "name": "python",
   "nbconvert_exporter": "python",
   "pygments_lexer": "ipython3",
   "version": "3.10.0"
  }
 },
 "nbformat": 4,
 "nbformat_minor": 2
}
