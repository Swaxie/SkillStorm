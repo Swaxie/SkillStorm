{
 "cells": [
  {
   "cell_type": "code",
   "execution_count": 41,
   "metadata": {},
   "outputs": [
    {
     "name": "stdout",
     "output_type": "stream",
     "text": [
      "https://pokeapi.co/api/v2/type/fairy\n"
     ]
    }
   ],
   "source": [
    "# Connecting to a NoAuth API\n",
    "base_url = \"https://pokeapi.co\"\n",
    "poke_api = \"/api/v2\"\n",
    "pokemon_endpoint = \"/type/fairy\"\n",
    "\n",
    "pokemon_url = base_url + poke_api + pokemon_endpoint\n",
    "print(pokemon_url)\n"
   ]
  },
  {
   "cell_type": "code",
   "execution_count": 42,
   "metadata": {},
   "outputs": [],
   "source": [
    "import requests\n",
    "import json\n",
    "import os\n",
    "\n",
    "response = requests.get(pokemon_url)"
   ]
  },
  {
   "cell_type": "code",
   "execution_count": 43,
   "metadata": {},
   "outputs": [
    {
     "data": {
      "text/plain": [
       "83"
      ]
     },
     "execution_count": 43,
     "metadata": {},
     "output_type": "execute_result"
    }
   ],
   "source": [
    "data = response.json()\n",
    "data['pokemon']\n",
    "fairy_type_names = [fairy['pokemon']['name'] for fairy in data['pokemon']]\n",
    "len(fairy_type_names)"
   ]
  },
  {
   "cell_type": "code",
   "execution_count": 44,
   "metadata": {},
   "outputs": [
    {
     "data": {
      "text/html": [
       "<div>\n",
       "<style scoped>\n",
       "    .dataframe tbody tr th:only-of-type {\n",
       "        vertical-align: middle;\n",
       "    }\n",
       "\n",
       "    .dataframe tbody tr th {\n",
       "        vertical-align: top;\n",
       "    }\n",
       "\n",
       "    .dataframe thead th {\n",
       "        text-align: right;\n",
       "    }\n",
       "</style>\n",
       "<table border=\"1\" class=\"dataframe\">\n",
       "  <thead>\n",
       "    <tr style=\"text-align: right;\">\n",
       "      <th></th>\n",
       "      <th>slot</th>\n",
       "      <th>pokemon.name</th>\n",
       "      <th>pokemon.url</th>\n",
       "    </tr>\n",
       "  </thead>\n",
       "  <tbody>\n",
       "    <tr>\n",
       "      <th>0</th>\n",
       "      <td>1</td>\n",
       "      <td>clefairy</td>\n",
       "      <td>https://pokeapi.co/api/v2/pokemon/35/</td>\n",
       "    </tr>\n",
       "    <tr>\n",
       "      <th>1</th>\n",
       "      <td>1</td>\n",
       "      <td>clefable</td>\n",
       "      <td>https://pokeapi.co/api/v2/pokemon/36/</td>\n",
       "    </tr>\n",
       "    <tr>\n",
       "      <th>2</th>\n",
       "      <td>2</td>\n",
       "      <td>jigglypuff</td>\n",
       "      <td>https://pokeapi.co/api/v2/pokemon/39/</td>\n",
       "    </tr>\n",
       "    <tr>\n",
       "      <th>3</th>\n",
       "      <td>2</td>\n",
       "      <td>wigglytuff</td>\n",
       "      <td>https://pokeapi.co/api/v2/pokemon/40/</td>\n",
       "    </tr>\n",
       "    <tr>\n",
       "      <th>4</th>\n",
       "      <td>2</td>\n",
       "      <td>mr-mime</td>\n",
       "      <td>https://pokeapi.co/api/v2/pokemon/122/</td>\n",
       "    </tr>\n",
       "    <tr>\n",
       "      <th>5</th>\n",
       "      <td>1</td>\n",
       "      <td>cleffa</td>\n",
       "      <td>https://pokeapi.co/api/v2/pokemon/173/</td>\n",
       "    </tr>\n",
       "    <tr>\n",
       "      <th>6</th>\n",
       "      <td>2</td>\n",
       "      <td>igglybuff</td>\n",
       "      <td>https://pokeapi.co/api/v2/pokemon/174/</td>\n",
       "    </tr>\n",
       "    <tr>\n",
       "      <th>7</th>\n",
       "      <td>1</td>\n",
       "      <td>togepi</td>\n",
       "      <td>https://pokeapi.co/api/v2/pokemon/175/</td>\n",
       "    </tr>\n",
       "    <tr>\n",
       "      <th>8</th>\n",
       "      <td>1</td>\n",
       "      <td>togetic</td>\n",
       "      <td>https://pokeapi.co/api/v2/pokemon/176/</td>\n",
       "    </tr>\n",
       "    <tr>\n",
       "      <th>9</th>\n",
       "      <td>2</td>\n",
       "      <td>marill</td>\n",
       "      <td>https://pokeapi.co/api/v2/pokemon/183/</td>\n",
       "    </tr>\n",
       "    <tr>\n",
       "      <th>10</th>\n",
       "      <td>2</td>\n",
       "      <td>azumarill</td>\n",
       "      <td>https://pokeapi.co/api/v2/pokemon/184/</td>\n",
       "    </tr>\n",
       "    <tr>\n",
       "      <th>11</th>\n",
       "      <td>1</td>\n",
       "      <td>snubbull</td>\n",
       "      <td>https://pokeapi.co/api/v2/pokemon/209/</td>\n",
       "    </tr>\n",
       "    <tr>\n",
       "      <th>12</th>\n",
       "      <td>1</td>\n",
       "      <td>granbull</td>\n",
       "      <td>https://pokeapi.co/api/v2/pokemon/210/</td>\n",
       "    </tr>\n",
       "    <tr>\n",
       "      <th>13</th>\n",
       "      <td>2</td>\n",
       "      <td>ralts</td>\n",
       "      <td>https://pokeapi.co/api/v2/pokemon/280/</td>\n",
       "    </tr>\n",
       "    <tr>\n",
       "      <th>14</th>\n",
       "      <td>2</td>\n",
       "      <td>kirlia</td>\n",
       "      <td>https://pokeapi.co/api/v2/pokemon/281/</td>\n",
       "    </tr>\n",
       "    <tr>\n",
       "      <th>15</th>\n",
       "      <td>2</td>\n",
       "      <td>gardevoir</td>\n",
       "      <td>https://pokeapi.co/api/v2/pokemon/282/</td>\n",
       "    </tr>\n",
       "    <tr>\n",
       "      <th>16</th>\n",
       "      <td>2</td>\n",
       "      <td>azurill</td>\n",
       "      <td>https://pokeapi.co/api/v2/pokemon/298/</td>\n",
       "    </tr>\n",
       "    <tr>\n",
       "      <th>17</th>\n",
       "      <td>2</td>\n",
       "      <td>mawile</td>\n",
       "      <td>https://pokeapi.co/api/v2/pokemon/303/</td>\n",
       "    </tr>\n",
       "    <tr>\n",
       "      <th>18</th>\n",
       "      <td>2</td>\n",
       "      <td>mime-jr</td>\n",
       "      <td>https://pokeapi.co/api/v2/pokemon/439/</td>\n",
       "    </tr>\n",
       "    <tr>\n",
       "      <th>19</th>\n",
       "      <td>1</td>\n",
       "      <td>togekiss</td>\n",
       "      <td>https://pokeapi.co/api/v2/pokemon/468/</td>\n",
       "    </tr>\n",
       "  </tbody>\n",
       "</table>\n",
       "</div>"
      ],
      "text/plain": [
       "    slot pokemon.name                             pokemon.url\n",
       "0      1     clefairy   https://pokeapi.co/api/v2/pokemon/35/\n",
       "1      1     clefable   https://pokeapi.co/api/v2/pokemon/36/\n",
       "2      2   jigglypuff   https://pokeapi.co/api/v2/pokemon/39/\n",
       "3      2   wigglytuff   https://pokeapi.co/api/v2/pokemon/40/\n",
       "4      2      mr-mime  https://pokeapi.co/api/v2/pokemon/122/\n",
       "5      1       cleffa  https://pokeapi.co/api/v2/pokemon/173/\n",
       "6      2    igglybuff  https://pokeapi.co/api/v2/pokemon/174/\n",
       "7      1       togepi  https://pokeapi.co/api/v2/pokemon/175/\n",
       "8      1      togetic  https://pokeapi.co/api/v2/pokemon/176/\n",
       "9      2       marill  https://pokeapi.co/api/v2/pokemon/183/\n",
       "10     2    azumarill  https://pokeapi.co/api/v2/pokemon/184/\n",
       "11     1     snubbull  https://pokeapi.co/api/v2/pokemon/209/\n",
       "12     1     granbull  https://pokeapi.co/api/v2/pokemon/210/\n",
       "13     2        ralts  https://pokeapi.co/api/v2/pokemon/280/\n",
       "14     2       kirlia  https://pokeapi.co/api/v2/pokemon/281/\n",
       "15     2    gardevoir  https://pokeapi.co/api/v2/pokemon/282/\n",
       "16     2      azurill  https://pokeapi.co/api/v2/pokemon/298/\n",
       "17     2       mawile  https://pokeapi.co/api/v2/pokemon/303/\n",
       "18     2      mime-jr  https://pokeapi.co/api/v2/pokemon/439/\n",
       "19     1     togekiss  https://pokeapi.co/api/v2/pokemon/468/"
      ]
     },
     "execution_count": 44,
     "metadata": {},
     "output_type": "execute_result"
    }
   ],
   "source": [
    "import pandas as pd\n",
    "fairy_types = data['pokemon']\n",
    "df = pd.json_normalize(fairy_types)\n",
    "df.head(20)"
   ]
  },
  {
   "cell_type": "code",
   "execution_count": 49,
   "metadata": {},
   "outputs": [
    {
     "name": "stdout",
     "output_type": "stream",
     "text": [
      "https://tasty.p.rapidapi.com/recipes/list\n"
     ]
    }
   ],
   "source": [
    "# Connecting to an API key API\n",
    "from dotenv import load_dotenv\n",
    "base_url = 'https://tasty.p.rapidapi.com'\n",
    "recipes_endpoint = '/recipes/list'\n",
    "recipes_url = base_url + recipes_endpoint\n",
    "\n",
    "print(recipes_url)\n",
    "\n",
    "load_dotenv()\n",
    "\n",
    "headers = {'x-rapidapi-key' : os.environ['tasty_api_key'],\n",
    "           'x-rapidapi-host' : \"tasty.p.rapidapi.com\"\n",
    "           }\n",
    "\n",
    "querystring = {\"prefix\" : \"cheese\"}\n",
    "\n"
   ]
  },
  {
   "cell_type": "code",
   "execution_count": null,
   "metadata": {},
   "outputs": [],
   "source": [
    "response = recipes.get(recipes_url, headers=headers, params=querystring)"
   ]
  }
 ],
 "metadata": {
  "kernelspec": {
   "display_name": ".venv",
   "language": "python",
   "name": "python3"
  },
  "language_info": {
   "codemirror_mode": {
    "name": "ipython",
    "version": 3
   },
   "file_extension": ".py",
   "mimetype": "text/x-python",
   "name": "python",
   "nbconvert_exporter": "python",
   "pygments_lexer": "ipython3",
   "version": "3.10.0"
  }
 },
 "nbformat": 4,
 "nbformat_minor": 2
}
