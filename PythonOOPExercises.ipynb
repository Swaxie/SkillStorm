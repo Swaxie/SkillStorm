{
 "cells": [
  {
   "cell_type": "code",
   "execution_count": 2,
   "metadata": {},
   "outputs": [],
   "source": [
    "class ComputerComponent:\n",
    "    num_components = 0\n",
    "\n",
    "    def __init__(self, manufacturer: str , model: str, serial_number: str):\n",
    "        self.manufacturer = manufacturer\n",
    "        self.model = model\n",
    "        self.serial_number = serial_number\n",
    "\n",
    "    def details(self):\n",
    "        print(f\"Manufacturer: {self.manufacturer}\\nModel: {self.model}\\nSerial Number: {self.serial_number}\")"
   ]
  },
  {
   "cell_type": "code",
   "execution_count": 3,
   "metadata": {},
   "outputs": [
    {
     "name": "stdout",
     "output_type": "stream",
     "text": [
      "Manufacturer: NVIDIA\n",
      "Model: RTX4080\n",
      "Serial Number: A124T3462\n"
     ]
    }
   ],
   "source": [
    "gpu = ComputerComponent(\"NVIDIA\", \"RTX4080\",\"A124T3462\")\n",
    "gpu.details()"
   ]
  },
  {
   "cell_type": "code",
   "execution_count": 13,
   "metadata": {},
   "outputs": [],
   "source": [
    "class CPU(ComputerComponent):\n",
    "    def __init__(self, manufacturer : str, model : str, serial_number : str, cores: int, clock_speed : str):\n",
    "        super().__init__(manufacturer, model, serial_number)\n",
    "        self.cores = cores\n",
    "        self.clock_speed = clock_speed\n",
    "    \n",
    "    def details(self):\n",
    "        super().details()\n",
    "        print(f\"Cores: {self.cores}\\nClock Speed: {self.clock_speed}\")\n",
    "        "
   ]
  },
  {
   "cell_type": "code",
   "execution_count": 5,
   "metadata": {},
   "outputs": [],
   "source": [
    "class Memory(ComputerComponent):\n",
    "    def __init__(self, manufacturer: str, model: str, serial_number : str, amount: str):\n",
    "        super().__init__(manufacturer, model, serial_number)\n",
    "        self.amount = amount\n",
    "    \n",
    "    def details(self):\n",
    "        super().details()\n",
    "        print(f\"Amount: {self.amount}\")"
   ]
  },
  {
   "cell_type": "code",
   "execution_count": 15,
   "metadata": {},
   "outputs": [],
   "source": [
    "class Storage(ComputerComponent):\n",
    "    def __init__(self, manufacturer: str, model: str, serial_number: str, storage_type: str, size: str):\n",
    "        super().__init__(manufacturer, model, serial_number)\n",
    "        self.storage_type = storage_type\n",
    "        self.size = size\n",
    "        \n",
    "    def details(self):\n",
    "        super().details()\n",
    "        print(f\"Storage Type: {self.storage_type}\\nSize: {self.size}\")"
   ]
  },
  {
   "cell_type": "code",
   "execution_count": 16,
   "metadata": {},
   "outputs": [],
   "source": [
    "class GPU(ComputerComponent):\n",
    "    def __init__(self, manufacturer: str, model: str, serial_number: str, memory: str):\n",
    "        super().__init__(manufacturer, model, serial_number)\n",
    "        self.memory = memory\n",
    "    \n",
    "    def details(self):\n",
    "        super().details()\n",
    "        print(f\"Memory: {self.memory}\")"
   ]
  },
  {
   "cell_type": "code",
   "execution_count": 8,
   "metadata": {},
   "outputs": [],
   "source": [
    "class Computer:\n",
    "    def __init__(self, cpu: CPU, mem: Memory, storage: Storage, **kwargs):\n",
    "        self.cpu = cpu\n",
    "        self.mem = mem\n",
    "        self.storage = storage\n",
    "    \n",
    "    def specs():\n",
    "        return"
   ]
  },
  {
   "cell_type": "code",
   "execution_count": 14,
   "metadata": {},
   "outputs": [
    {
     "name": "stdout",
     "output_type": "stream",
     "text": [
      "Manufacturer: Intel\n",
      "Model: Core i5-12400F\n",
      "Serial Number: ABCD123456789\n",
      "Cores: 6\n",
      "Clock Speed: 2.5 GHz\n"
     ]
    }
   ],
   "source": [
    "cpu = CPU(\"Intel\", \"Core i5-12400F\", \"ABCD123456789\", 6, \"2.5 GHz\" )\n",
    "cpu.details()"
   ]
  }
 ],
 "metadata": {
  "kernelspec": {
   "display_name": ".venv",
   "language": "python",
   "name": "python3"
  },
  "language_info": {
   "codemirror_mode": {
    "name": "ipython",
    "version": 3
   },
   "file_extension": ".py",
   "mimetype": "text/x-python",
   "name": "python",
   "nbconvert_exporter": "python",
   "pygments_lexer": "ipython3",
   "version": "3.10.0"
  }
 },
 "nbformat": 4,
 "nbformat_minor": 2
}
